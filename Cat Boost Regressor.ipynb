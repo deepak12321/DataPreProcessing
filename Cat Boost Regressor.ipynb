{
 "cells": [
  {
   "cell_type": "code",
   "execution_count": 5,
   "id": "8c43e773-dfd2-46ca-ad78-c750b6b77498",
   "metadata": {},
   "outputs": [],
   "source": [
    "import pandas as pd\n",
    "import numpy as np\n",
    "from catboost import CatBoostRegressor\n",
    "from sklearn.metrics import mean_squared_error\n",
    "from sklearn.metrics import mean_absolute_error"
   ]
  },
  {
   "cell_type": "code",
   "execution_count": 6,
   "id": "ab18f473-cf80-4b54-b125-9ca4ef325ad4",
   "metadata": {},
   "outputs": [],
   "source": [
    "train = pd.read_excel('ptrain.xlsx')\n",
    "test = pd.read_excel('ptest.xlsx')"
   ]
  },
  {
   "cell_type": "code",
   "execution_count": 7,
   "id": "31ba11bf-8076-4697-a6d2-394204a078da",
   "metadata": {},
   "outputs": [],
   "source": [
    "x_train = train.drop(['temperature_2m (°C)', 'Date'] , axis = 1)\n",
    "y_train = train['temperature_2m (°C)']\n",
    "\n",
    "x_test = test.drop(['temperature_2m (°C)' , 'Date'], axis = 1)\n",
    "y_test = test['temperature_2m (°C)']"
   ]
  },
  {
   "cell_type": "code",
   "execution_count": 9,
   "id": "354e0b76-9555-4388-bade-b62c9226c89c",
   "metadata": {},
   "outputs": [
    {
     "name": "stdout",
     "output_type": "stream",
     "text": [
      "Learning rate set to 0.361997\n",
      "0:\ttotal: 161ms\tremaining: 16s\n",
      "1:\ttotal: 167ms\tremaining: 8.2s\n",
      "2:\ttotal: 174ms\tremaining: 5.62s\n",
      "3:\ttotal: 179ms\tremaining: 4.3s\n",
      "4:\ttotal: 185ms\tremaining: 3.51s\n",
      "5:\ttotal: 191ms\tremaining: 2.99s\n",
      "6:\ttotal: 197ms\tremaining: 2.62s\n",
      "7:\ttotal: 203ms\tremaining: 2.33s\n",
      "8:\ttotal: 209ms\tremaining: 2.11s\n",
      "9:\ttotal: 214ms\tremaining: 1.93s\n",
      "10:\ttotal: 220ms\tremaining: 1.78s\n",
      "11:\ttotal: 225ms\tremaining: 1.65s\n",
      "12:\ttotal: 229ms\tremaining: 1.53s\n",
      "13:\ttotal: 234ms\tremaining: 1.44s\n",
      "14:\ttotal: 239ms\tremaining: 1.35s\n",
      "15:\ttotal: 244ms\tremaining: 1.28s\n",
      "16:\ttotal: 249ms\tremaining: 1.21s\n",
      "17:\ttotal: 254ms\tremaining: 1.16s\n",
      "18:\ttotal: 259ms\tremaining: 1.1s\n",
      "19:\ttotal: 264ms\tremaining: 1.05s\n",
      "20:\ttotal: 268ms\tremaining: 1.01s\n",
      "21:\ttotal: 273ms\tremaining: 967ms\n",
      "22:\ttotal: 277ms\tremaining: 928ms\n",
      "23:\ttotal: 282ms\tremaining: 893ms\n",
      "24:\ttotal: 287ms\tremaining: 860ms\n",
      "25:\ttotal: 291ms\tremaining: 829ms\n",
      "26:\ttotal: 296ms\tremaining: 799ms\n",
      "27:\ttotal: 300ms\tremaining: 772ms\n",
      "28:\ttotal: 305ms\tremaining: 746ms\n",
      "29:\ttotal: 309ms\tremaining: 721ms\n",
      "30:\ttotal: 314ms\tremaining: 698ms\n",
      "31:\ttotal: 318ms\tremaining: 676ms\n",
      "32:\ttotal: 323ms\tremaining: 656ms\n",
      "33:\ttotal: 328ms\tremaining: 636ms\n",
      "34:\ttotal: 332ms\tremaining: 617ms\n",
      "35:\ttotal: 337ms\tremaining: 599ms\n",
      "36:\ttotal: 341ms\tremaining: 581ms\n",
      "37:\ttotal: 346ms\tremaining: 564ms\n",
      "38:\ttotal: 350ms\tremaining: 548ms\n",
      "39:\ttotal: 355ms\tremaining: 532ms\n",
      "40:\ttotal: 359ms\tremaining: 517ms\n",
      "41:\ttotal: 364ms\tremaining: 502ms\n",
      "42:\ttotal: 368ms\tremaining: 488ms\n",
      "43:\ttotal: 373ms\tremaining: 474ms\n",
      "44:\ttotal: 377ms\tremaining: 461ms\n",
      "45:\ttotal: 382ms\tremaining: 449ms\n",
      "46:\ttotal: 387ms\tremaining: 436ms\n",
      "47:\ttotal: 393ms\tremaining: 426ms\n",
      "48:\ttotal: 399ms\tremaining: 415ms\n",
      "49:\ttotal: 404ms\tremaining: 404ms\n",
      "50:\ttotal: 409ms\tremaining: 393ms\n",
      "51:\ttotal: 414ms\tremaining: 382ms\n",
      "52:\ttotal: 418ms\tremaining: 371ms\n",
      "53:\ttotal: 423ms\tremaining: 361ms\n",
      "54:\ttotal: 428ms\tremaining: 350ms\n",
      "55:\ttotal: 432ms\tremaining: 340ms\n",
      "56:\ttotal: 440ms\tremaining: 332ms\n",
      "57:\ttotal: 444ms\tremaining: 322ms\n",
      "58:\ttotal: 449ms\tremaining: 312ms\n",
      "59:\ttotal: 453ms\tremaining: 302ms\n",
      "60:\ttotal: 458ms\tremaining: 293ms\n",
      "61:\ttotal: 462ms\tremaining: 283ms\n",
      "62:\ttotal: 467ms\tremaining: 274ms\n",
      "63:\ttotal: 472ms\tremaining: 265ms\n",
      "64:\ttotal: 477ms\tremaining: 257ms\n",
      "65:\ttotal: 481ms\tremaining: 248ms\n",
      "66:\ttotal: 486ms\tremaining: 239ms\n",
      "67:\ttotal: 490ms\tremaining: 231ms\n",
      "68:\ttotal: 495ms\tremaining: 222ms\n",
      "69:\ttotal: 500ms\tremaining: 214ms\n",
      "70:\ttotal: 504ms\tremaining: 206ms\n",
      "71:\ttotal: 509ms\tremaining: 198ms\n",
      "72:\ttotal: 514ms\tremaining: 190ms\n",
      "73:\ttotal: 519ms\tremaining: 182ms\n",
      "74:\ttotal: 524ms\tremaining: 175ms\n",
      "75:\ttotal: 529ms\tremaining: 167ms\n",
      "76:\ttotal: 534ms\tremaining: 159ms\n",
      "77:\ttotal: 539ms\tremaining: 152ms\n",
      "78:\ttotal: 545ms\tremaining: 145ms\n",
      "79:\ttotal: 551ms\tremaining: 138ms\n",
      "80:\ttotal: 556ms\tremaining: 130ms\n",
      "81:\ttotal: 561ms\tremaining: 123ms\n",
      "82:\ttotal: 567ms\tremaining: 116ms\n",
      "83:\ttotal: 573ms\tremaining: 109ms\n",
      "84:\ttotal: 579ms\tremaining: 102ms\n",
      "85:\ttotal: 585ms\tremaining: 95.2ms\n",
      "86:\ttotal: 592ms\tremaining: 88.4ms\n",
      "87:\ttotal: 597ms\tremaining: 81.5ms\n",
      "88:\ttotal: 603ms\tremaining: 74.6ms\n",
      "89:\ttotal: 608ms\tremaining: 67.6ms\n",
      "90:\ttotal: 613ms\tremaining: 60.6ms\n",
      "91:\ttotal: 619ms\tremaining: 53.8ms\n",
      "92:\ttotal: 626ms\tremaining: 47.1ms\n",
      "93:\ttotal: 633ms\tremaining: 40.4ms\n",
      "94:\ttotal: 639ms\tremaining: 33.6ms\n",
      "95:\ttotal: 644ms\tremaining: 26.8ms\n",
      "96:\ttotal: 650ms\tremaining: 20.1ms\n",
      "97:\ttotal: 654ms\tremaining: 13.4ms\n",
      "98:\ttotal: 659ms\tremaining: 6.66ms\n",
      "99:\ttotal: 664ms\tremaining: 0us\n"
     ]
    },
    {
     "data": {
      "text/plain": [
       "<catboost.core.CatBoostRegressor at 0x25fb55e5a90>"
      ]
     },
     "execution_count": 9,
     "metadata": {},
     "output_type": "execute_result"
    }
   ],
   "source": [
    "cat = CatBoostRegressor(iterations = 100 , eval_metric=\"AUC\" )\n",
    "cat.fit(x_train , y_train)"
   ]
  },
  {
   "cell_type": "code",
   "execution_count": 13,
   "id": "052045cc-6201-4664-aca7-9a14422fdc76",
   "metadata": {},
   "outputs": [
    {
     "data": {
      "text/plain": [
       "array([10.41212806, 11.18603958, 11.17903776, ...,  8.52264032,\n",
       "        9.6637258 , 12.87255789])"
      ]
     },
     "execution_count": 13,
     "metadata": {},
     "output_type": "execute_result"
    }
   ],
   "source": [
    "train_pred = cat.predict(x_train)\n",
    "train_pred"
   ]
  },
  {
   "cell_type": "code",
   "execution_count": 14,
   "id": "c1df2a3f-5fc4-49c1-9ab5-29c7ef8078ab",
   "metadata": {},
   "outputs": [
    {
     "name": "stdout",
     "output_type": "stream",
     "text": [
      "Mean Squared Error: 0.02142463432953739\n"
     ]
    }
   ],
   "source": [
    "mse_train = mean_squared_error(y_train, train_pred)\n",
    "print(f'Mean Squared Error: {mse_train}')"
   ]
  },
  {
   "cell_type": "code",
   "execution_count": 15,
   "id": "8789687f-7ba1-4517-9ff5-ccc2394cc127",
   "metadata": {},
   "outputs": [
    {
     "data": {
      "text/html": [
       "<div>\n",
       "<style scoped>\n",
       "    .dataframe tbody tr th:only-of-type {\n",
       "        vertical-align: middle;\n",
       "    }\n",
       "\n",
       "    .dataframe tbody tr th {\n",
       "        vertical-align: top;\n",
       "    }\n",
       "\n",
       "    .dataframe thead th {\n",
       "        text-align: right;\n",
       "    }\n",
       "</style>\n",
       "<table border=\"1\" class=\"dataframe\">\n",
       "  <thead>\n",
       "    <tr style=\"text-align: right;\">\n",
       "      <th></th>\n",
       "      <th>actual</th>\n",
       "      <th>predicted</th>\n",
       "      <th>error</th>\n",
       "    </tr>\n",
       "  </thead>\n",
       "  <tbody>\n",
       "    <tr>\n",
       "      <th>0</th>\n",
       "      <td>10.450000</td>\n",
       "      <td>10.412128</td>\n",
       "      <td>-0.037872</td>\n",
       "    </tr>\n",
       "    <tr>\n",
       "      <th>1</th>\n",
       "      <td>11.100000</td>\n",
       "      <td>11.186040</td>\n",
       "      <td>0.086040</td>\n",
       "    </tr>\n",
       "    <tr>\n",
       "      <th>2</th>\n",
       "      <td>11.279167</td>\n",
       "      <td>11.179038</td>\n",
       "      <td>-0.100129</td>\n",
       "    </tr>\n",
       "    <tr>\n",
       "      <th>3</th>\n",
       "      <td>11.262500</td>\n",
       "      <td>11.134516</td>\n",
       "      <td>-0.127984</td>\n",
       "    </tr>\n",
       "    <tr>\n",
       "      <th>4</th>\n",
       "      <td>10.591667</td>\n",
       "      <td>10.685130</td>\n",
       "      <td>0.093464</td>\n",
       "    </tr>\n",
       "    <tr>\n",
       "      <th>...</th>\n",
       "      <td>...</td>\n",
       "      <td>...</td>\n",
       "      <td>...</td>\n",
       "    </tr>\n",
       "    <tr>\n",
       "      <th>6995</th>\n",
       "      <td>12.233333</td>\n",
       "      <td>12.039534</td>\n",
       "      <td>-0.193800</td>\n",
       "    </tr>\n",
       "    <tr>\n",
       "      <th>6996</th>\n",
       "      <td>12.379167</td>\n",
       "      <td>12.281204</td>\n",
       "      <td>-0.097962</td>\n",
       "    </tr>\n",
       "    <tr>\n",
       "      <th>6997</th>\n",
       "      <td>8.500000</td>\n",
       "      <td>8.522640</td>\n",
       "      <td>0.022640</td>\n",
       "    </tr>\n",
       "    <tr>\n",
       "      <th>6998</th>\n",
       "      <td>9.654167</td>\n",
       "      <td>9.663726</td>\n",
       "      <td>0.009559</td>\n",
       "    </tr>\n",
       "    <tr>\n",
       "      <th>6999</th>\n",
       "      <td>12.862500</td>\n",
       "      <td>12.872558</td>\n",
       "      <td>0.010058</td>\n",
       "    </tr>\n",
       "  </tbody>\n",
       "</table>\n",
       "<p>7000 rows × 3 columns</p>\n",
       "</div>"
      ],
      "text/plain": [
       "         actual  predicted     error\n",
       "0     10.450000  10.412128 -0.037872\n",
       "1     11.100000  11.186040  0.086040\n",
       "2     11.279167  11.179038 -0.100129\n",
       "3     11.262500  11.134516 -0.127984\n",
       "4     10.591667  10.685130  0.093464\n",
       "...         ...        ...       ...\n",
       "6995  12.233333  12.039534 -0.193800\n",
       "6996  12.379167  12.281204 -0.097962\n",
       "6997   8.500000   8.522640  0.022640\n",
       "6998   9.654167   9.663726  0.009559\n",
       "6999  12.862500  12.872558  0.010058\n",
       "\n",
       "[7000 rows x 3 columns]"
      ]
     },
     "execution_count": 15,
     "metadata": {},
     "output_type": "execute_result"
    }
   ],
   "source": [
    "predictions = pd.DataFrame()\n",
    "predictions['actual'] = y_train\n",
    "predictions['predicted'] = train_pred\n",
    "predictions ['error'] = predictions['predicted'] - predictions['actual']\n",
    "predictions"
   ]
  },
  {
   "cell_type": "code",
   "execution_count": null,
   "id": "5b0f8148-ce4c-4c2a-8446-0528c5851bd8",
   "metadata": {},
   "outputs": [],
   "source": []
  },
  {
   "cell_type": "code",
   "execution_count": 17,
   "id": "10c4422e-df6e-43dc-a6a0-5146de4fe15e",
   "metadata": {},
   "outputs": [
    {
     "name": "stdout",
     "output_type": "stream",
     "text": [
      "Learning rate set to 0.292775\n",
      "0:\ttotal: 5.62ms\tremaining: 557ms\n",
      "1:\ttotal: 17.2ms\tremaining: 845ms\n",
      "2:\ttotal: 24.1ms\tremaining: 779ms\n",
      "3:\ttotal: 31ms\tremaining: 743ms\n",
      "4:\ttotal: 37ms\tremaining: 704ms\n",
      "5:\ttotal: 42.5ms\tremaining: 665ms\n",
      "6:\ttotal: 47.8ms\tremaining: 635ms\n",
      "7:\ttotal: 53.3ms\tremaining: 613ms\n",
      "8:\ttotal: 58.7ms\tremaining: 594ms\n",
      "9:\ttotal: 62.8ms\tremaining: 565ms\n",
      "10:\ttotal: 67.4ms\tremaining: 545ms\n",
      "11:\ttotal: 71.5ms\tremaining: 524ms\n",
      "12:\ttotal: 75.8ms\tremaining: 507ms\n",
      "13:\ttotal: 79.9ms\tremaining: 491ms\n",
      "14:\ttotal: 85.8ms\tremaining: 486ms\n",
      "15:\ttotal: 89.8ms\tremaining: 472ms\n",
      "16:\ttotal: 94.6ms\tremaining: 462ms\n",
      "17:\ttotal: 98.9ms\tremaining: 450ms\n",
      "18:\ttotal: 103ms\tremaining: 440ms\n",
      "19:\ttotal: 107ms\tremaining: 428ms\n",
      "20:\ttotal: 111ms\tremaining: 418ms\n",
      "21:\ttotal: 115ms\tremaining: 406ms\n",
      "22:\ttotal: 118ms\tremaining: 395ms\n",
      "23:\ttotal: 122ms\tremaining: 385ms\n",
      "24:\ttotal: 126ms\tremaining: 378ms\n",
      "25:\ttotal: 131ms\tremaining: 372ms\n",
      "26:\ttotal: 135ms\tremaining: 366ms\n",
      "27:\ttotal: 139ms\tremaining: 358ms\n",
      "28:\ttotal: 144ms\tremaining: 352ms\n",
      "29:\ttotal: 147ms\tremaining: 343ms\n",
      "30:\ttotal: 151ms\tremaining: 337ms\n",
      "31:\ttotal: 155ms\tremaining: 330ms\n",
      "32:\ttotal: 159ms\tremaining: 322ms\n",
      "33:\ttotal: 162ms\tremaining: 315ms\n",
      "34:\ttotal: 166ms\tremaining: 308ms\n",
      "35:\ttotal: 170ms\tremaining: 302ms\n",
      "36:\ttotal: 173ms\tremaining: 295ms\n",
      "37:\ttotal: 177ms\tremaining: 288ms\n",
      "38:\ttotal: 180ms\tremaining: 282ms\n",
      "39:\ttotal: 184ms\tremaining: 275ms\n",
      "40:\ttotal: 187ms\tremaining: 269ms\n",
      "41:\ttotal: 191ms\tremaining: 263ms\n",
      "42:\ttotal: 194ms\tremaining: 257ms\n",
      "43:\ttotal: 197ms\tremaining: 251ms\n",
      "44:\ttotal: 202ms\tremaining: 247ms\n",
      "45:\ttotal: 206ms\tremaining: 242ms\n",
      "46:\ttotal: 210ms\tremaining: 237ms\n",
      "47:\ttotal: 214ms\tremaining: 231ms\n",
      "48:\ttotal: 218ms\tremaining: 227ms\n",
      "49:\ttotal: 223ms\tremaining: 223ms\n",
      "50:\ttotal: 226ms\tremaining: 218ms\n",
      "51:\ttotal: 230ms\tremaining: 213ms\n",
      "52:\ttotal: 234ms\tremaining: 207ms\n",
      "53:\ttotal: 237ms\tremaining: 202ms\n",
      "54:\ttotal: 240ms\tremaining: 197ms\n",
      "55:\ttotal: 244ms\tremaining: 192ms\n",
      "56:\ttotal: 247ms\tremaining: 187ms\n",
      "57:\ttotal: 251ms\tremaining: 181ms\n",
      "58:\ttotal: 254ms\tremaining: 177ms\n",
      "59:\ttotal: 258ms\tremaining: 172ms\n",
      "60:\ttotal: 261ms\tremaining: 167ms\n",
      "61:\ttotal: 264ms\tremaining: 162ms\n",
      "62:\ttotal: 268ms\tremaining: 157ms\n",
      "63:\ttotal: 271ms\tremaining: 152ms\n",
      "64:\ttotal: 275ms\tremaining: 148ms\n",
      "65:\ttotal: 278ms\tremaining: 143ms\n",
      "66:\ttotal: 281ms\tremaining: 139ms\n",
      "67:\ttotal: 285ms\tremaining: 134ms\n",
      "68:\ttotal: 288ms\tremaining: 130ms\n",
      "69:\ttotal: 292ms\tremaining: 125ms\n",
      "70:\ttotal: 295ms\tremaining: 120ms\n",
      "71:\ttotal: 298ms\tremaining: 116ms\n",
      "72:\ttotal: 302ms\tremaining: 112ms\n",
      "73:\ttotal: 305ms\tremaining: 107ms\n",
      "74:\ttotal: 308ms\tremaining: 103ms\n",
      "75:\ttotal: 312ms\tremaining: 98.5ms\n",
      "76:\ttotal: 316ms\tremaining: 94.3ms\n",
      "77:\ttotal: 319ms\tremaining: 89.9ms\n",
      "78:\ttotal: 322ms\tremaining: 85.7ms\n",
      "79:\ttotal: 326ms\tremaining: 81.4ms\n",
      "80:\ttotal: 329ms\tremaining: 77.2ms\n",
      "81:\ttotal: 333ms\tremaining: 73.1ms\n",
      "82:\ttotal: 337ms\tremaining: 68.9ms\n",
      "83:\ttotal: 341ms\tremaining: 64.9ms\n",
      "84:\ttotal: 344ms\tremaining: 60.7ms\n",
      "85:\ttotal: 348ms\tremaining: 56.6ms\n",
      "86:\ttotal: 351ms\tremaining: 52.5ms\n",
      "87:\ttotal: 355ms\tremaining: 48.4ms\n",
      "88:\ttotal: 358ms\tremaining: 44.2ms\n",
      "89:\ttotal: 362ms\tremaining: 40.2ms\n",
      "90:\ttotal: 365ms\tremaining: 36.1ms\n",
      "91:\ttotal: 368ms\tremaining: 32ms\n",
      "92:\ttotal: 371ms\tremaining: 27.9ms\n",
      "93:\ttotal: 374ms\tremaining: 23.9ms\n",
      "94:\ttotal: 378ms\tremaining: 19.9ms\n",
      "95:\ttotal: 381ms\tremaining: 15.9ms\n",
      "96:\ttotal: 385ms\tremaining: 11.9ms\n",
      "97:\ttotal: 388ms\tremaining: 7.92ms\n",
      "98:\ttotal: 391ms\tremaining: 3.95ms\n",
      "99:\ttotal: 395ms\tremaining: 0us\n"
     ]
    },
    {
     "data": {
      "text/plain": [
       "<catboost.core.CatBoostRegressor at 0x25fb55e5a90>"
      ]
     },
     "execution_count": 17,
     "metadata": {},
     "output_type": "execute_result"
    }
   ],
   "source": [
    "cat.fit(x_test, y_test)"
   ]
  },
  {
   "cell_type": "code",
   "execution_count": 19,
   "id": "66001fb7-6dcc-48e4-9e04-445838345a6c",
   "metadata": {},
   "outputs": [
    {
     "data": {
      "text/plain": [
       "array([13.83325348, 13.32766097, 13.20804906, ..., 14.49107681,\n",
       "       15.61320049, 16.52769397])"
      ]
     },
     "execution_count": 19,
     "metadata": {},
     "output_type": "execute_result"
    }
   ],
   "source": [
    "test_pred = cat.predict(x_test)\n",
    "test_pred"
   ]
  },
  {
   "cell_type": "code",
   "execution_count": 20,
   "id": "0becf4d3-6dac-48d6-9b89-7435ead66f08",
   "metadata": {},
   "outputs": [
    {
     "name": "stdout",
     "output_type": "stream",
     "text": [
      "Mean Squared Error: 0.026728164081720216\n"
     ]
    }
   ],
   "source": [
    "mse_test = mean_squared_error(y_test, test_pred)\n",
    "print(f'Mean Squared Error: {mse_test}')"
   ]
  },
  {
   "cell_type": "code",
   "execution_count": 22,
   "id": "3eca7ecf-bb88-48b5-976c-83e0f23cb646",
   "metadata": {},
   "outputs": [
    {
     "data": {
      "text/html": [
       "<div>\n",
       "<style scoped>\n",
       "    .dataframe tbody tr th:only-of-type {\n",
       "        vertical-align: middle;\n",
       "    }\n",
       "\n",
       "    .dataframe tbody tr th {\n",
       "        vertical-align: top;\n",
       "    }\n",
       "\n",
       "    .dataframe thead th {\n",
       "        text-align: right;\n",
       "    }\n",
       "</style>\n",
       "<table border=\"1\" class=\"dataframe\">\n",
       "  <thead>\n",
       "    <tr style=\"text-align: right;\">\n",
       "      <th></th>\n",
       "      <th>actual</th>\n",
       "      <th>predicted</th>\n",
       "      <th>error</th>\n",
       "    </tr>\n",
       "  </thead>\n",
       "  <tbody>\n",
       "    <tr>\n",
       "      <th>0</th>\n",
       "      <td>13.770833</td>\n",
       "      <td>13.833253</td>\n",
       "      <td>0.062420</td>\n",
       "    </tr>\n",
       "    <tr>\n",
       "      <th>1</th>\n",
       "      <td>13.529167</td>\n",
       "      <td>13.327661</td>\n",
       "      <td>-0.201506</td>\n",
       "    </tr>\n",
       "    <tr>\n",
       "      <th>2</th>\n",
       "      <td>13.283333</td>\n",
       "      <td>13.208049</td>\n",
       "      <td>-0.075284</td>\n",
       "    </tr>\n",
       "    <tr>\n",
       "      <th>3</th>\n",
       "      <td>13.766667</td>\n",
       "      <td>14.104271</td>\n",
       "      <td>0.337604</td>\n",
       "    </tr>\n",
       "    <tr>\n",
       "      <th>4</th>\n",
       "      <td>14.500000</td>\n",
       "      <td>14.478058</td>\n",
       "      <td>-0.021942</td>\n",
       "    </tr>\n",
       "    <tr>\n",
       "      <th>...</th>\n",
       "      <td>...</td>\n",
       "      <td>...</td>\n",
       "      <td>...</td>\n",
       "    </tr>\n",
       "    <tr>\n",
       "      <th>1822</th>\n",
       "      <td>14.633333</td>\n",
       "      <td>14.747553</td>\n",
       "      <td>0.114219</td>\n",
       "    </tr>\n",
       "    <tr>\n",
       "      <th>1823</th>\n",
       "      <td>12.187500</td>\n",
       "      <td>12.105807</td>\n",
       "      <td>-0.081693</td>\n",
       "    </tr>\n",
       "    <tr>\n",
       "      <th>1824</th>\n",
       "      <td>14.504167</td>\n",
       "      <td>14.491077</td>\n",
       "      <td>-0.013090</td>\n",
       "    </tr>\n",
       "    <tr>\n",
       "      <th>1825</th>\n",
       "      <td>15.412500</td>\n",
       "      <td>15.613200</td>\n",
       "      <td>0.200700</td>\n",
       "    </tr>\n",
       "    <tr>\n",
       "      <th>1826</th>\n",
       "      <td>16.754167</td>\n",
       "      <td>16.527694</td>\n",
       "      <td>-0.226473</td>\n",
       "    </tr>\n",
       "  </tbody>\n",
       "</table>\n",
       "<p>1827 rows × 3 columns</p>\n",
       "</div>"
      ],
      "text/plain": [
       "         actual  predicted     error\n",
       "0     13.770833  13.833253  0.062420\n",
       "1     13.529167  13.327661 -0.201506\n",
       "2     13.283333  13.208049 -0.075284\n",
       "3     13.766667  14.104271  0.337604\n",
       "4     14.500000  14.478058 -0.021942\n",
       "...         ...        ...       ...\n",
       "1822  14.633333  14.747553  0.114219\n",
       "1823  12.187500  12.105807 -0.081693\n",
       "1824  14.504167  14.491077 -0.013090\n",
       "1825  15.412500  15.613200  0.200700\n",
       "1826  16.754167  16.527694 -0.226473\n",
       "\n",
       "[1827 rows x 3 columns]"
      ]
     },
     "execution_count": 22,
     "metadata": {},
     "output_type": "execute_result"
    }
   ],
   "source": [
    "predictions = pd.DataFrame()\n",
    "predictions['actual'] = y_test\n",
    "predictions['predicted'] = test_pred\n",
    "predictions ['error'] = predictions['predicted'] - predictions['actual']\n",
    "predictions"
   ]
  },
  {
   "cell_type": "code",
   "execution_count": 23,
   "id": "4a0a9618-973e-47a5-b265-accd674a7790",
   "metadata": {},
   "outputs": [
    {
     "name": "stdout",
     "output_type": "stream",
     "text": [
      "Train predction msc : 0.02142463432953739\n",
      "Test prediction msc : 0.026728164081720216\n"
     ]
    }
   ],
   "source": [
    "print(\"Train predction msc :\", mse_train)\n",
    "print(\"Test prediction msc :\", mse_test)"
   ]
  },
  {
   "cell_type": "code",
   "execution_count": null,
   "id": "b30bc548-2761-4bed-b2a6-71c677a10a12",
   "metadata": {},
   "outputs": [],
   "source": []
  }
 ],
 "metadata": {
  "kernelspec": {
   "display_name": "Python 3 (ipykernel)",
   "language": "python",
   "name": "python3"
  },
  "language_info": {
   "codemirror_mode": {
    "name": "ipython",
    "version": 3
   },
   "file_extension": ".py",
   "mimetype": "text/x-python",
   "name": "python",
   "nbconvert_exporter": "python",
   "pygments_lexer": "ipython3",
   "version": "3.11.3"
  }
 },
 "nbformat": 4,
 "nbformat_minor": 5
}
